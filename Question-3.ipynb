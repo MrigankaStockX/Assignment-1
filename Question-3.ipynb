{
 "cells": [
  {
   "cell_type": "markdown",
   "id": "7b1be38a-e0cc-4112-a9d8-b28a858f5732",
   "metadata": {},
   "source": [
    "Q3. Explain the use of the following operators using an example:\n",
    "(i) /\n",
    "(ii) %\n",
    "(iii) //\n",
    "(iv) **"
   ]
  },
  {
   "cell_type": "code",
   "execution_count": null,
   "id": "8f3c71ea-a69c-4423-8686-af9425328cc6",
   "metadata": {},
   "outputs": [],
   "source": []
  },
  {
   "cell_type": "code",
   "execution_count": 19,
   "id": "bdc82ef9-cce6-4fdf-a7b7-4780ca207d2e",
   "metadata": {},
   "outputs": [
    {
     "name": "stdin",
     "output_type": "stream",
     "text": [
      " 5\n"
     ]
    },
    {
     "name": "stdout",
     "output_type": "stream",
     "text": [
      "1\n",
      "2\n",
      "25\n"
     ]
    }
   ],
   "source": [
    "A = int(input())\n",
    "B = 2\n",
    "C = A/B\n",
    "if A%B==0:\n",
    " G = int(C)\n",
    " print(C)\n",
    "else:\n",
    " D = A%B\n",
    " print(D)\n",
    "E = A//B\n",
    "print(E)\n",
    "Q = A**B\n",
    "print(Q)\n"
   ]
  }
 ],
 "metadata": {
  "kernelspec": {
   "display_name": "Python 3 (ipykernel)",
   "language": "python",
   "name": "python3"
  },
  "language_info": {
   "codemirror_mode": {
    "name": "ipython",
    "version": 3
   },
   "file_extension": ".py",
   "mimetype": "text/x-python",
   "name": "python",
   "nbconvert_exporter": "python",
   "pygments_lexer": "ipython3",
   "version": "3.10.8"
  }
 },
 "nbformat": 4,
 "nbformat_minor": 5
}
