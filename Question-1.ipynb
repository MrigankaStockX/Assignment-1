{
 "cells": [
  {
   "cell_type": "markdown",
   "id": "c6464a83-8e00-4459-ba1a-c59cdad77d2d",
   "metadata": {},
   "source": [
    "Question 1"
   ]
  },
  {
   "cell_type": "code",
   "execution_count": null,
   "id": "eac175ab-2c2a-4fb2-bea1-b90cc1e3547f",
   "metadata": {},
   "outputs": [],
   "source": []
  },
  {
   "cell_type": "code",
   "execution_count": 7,
   "id": "3230e772-7038-4f6f-ab21-c854d1802136",
   "metadata": {},
   "outputs": [],
   "source": [
    "S = \"Mriganka\""
   ]
  },
  {
   "cell_type": "code",
   "execution_count": 13,
   "id": "e42f6a5a-0e2e-4453-bf0f-850408be9ad8",
   "metadata": {},
   "outputs": [
    {
     "data": {
      "text/plain": [
       "str"
      ]
     },
     "execution_count": 13,
     "metadata": {},
     "output_type": "execute_result"
    }
   ],
   "source": [
    "type(S)"
   ]
  },
  {
   "cell_type": "code",
   "execution_count": null,
   "id": "2b601ba3-d52b-4786-adfe-af45904a08db",
   "metadata": {},
   "outputs": [],
   "source": []
  },
  {
   "cell_type": "code",
   "execution_count": 11,
   "id": "d88a8bae-fde3-45e5-b4fa-84c8c75ae753",
   "metadata": {},
   "outputs": [],
   "source": [
    "L = [9,8,5,4]"
   ]
  },
  {
   "cell_type": "code",
   "execution_count": 15,
   "id": "efd5b4cc-c224-4b0d-a247-77b43dc77b4f",
   "metadata": {},
   "outputs": [
    {
     "data": {
      "text/plain": [
       "list"
      ]
     },
     "execution_count": 15,
     "metadata": {},
     "output_type": "execute_result"
    }
   ],
   "source": [
    "type(L)"
   ]
  },
  {
   "cell_type": "code",
   "execution_count": null,
   "id": "2381413d-99e8-4b60-bc56-289b7a5904ac",
   "metadata": {},
   "outputs": [],
   "source": []
  },
  {
   "cell_type": "code",
   "execution_count": 20,
   "id": "e2684b4d-3dcd-4061-b2e7-b62cf9c2f27b",
   "metadata": {},
   "outputs": [],
   "source": [
    "F = 9.5 "
   ]
  },
  {
   "cell_type": "code",
   "execution_count": 21,
   "id": "37711c20-1f36-42de-b231-e99eb38f91ec",
   "metadata": {},
   "outputs": [
    {
     "data": {
      "text/plain": [
       "float"
      ]
     },
     "execution_count": 21,
     "metadata": {},
     "output_type": "execute_result"
    }
   ],
   "source": [
    "type(F)"
   ]
  },
  {
   "cell_type": "code",
   "execution_count": null,
   "id": "cbf45491-fa33-4d97-a34c-e47afe6eaed1",
   "metadata": {},
   "outputs": [],
   "source": []
  },
  {
   "cell_type": "code",
   "execution_count": 27,
   "id": "5f50c349-b030-43ee-9af4-802deb2813b0",
   "metadata": {},
   "outputs": [],
   "source": [
    "T = (9,8,5,4)"
   ]
  },
  {
   "cell_type": "code",
   "execution_count": 28,
   "id": "3ea72ae8-1321-4fb9-8197-6698767e6eac",
   "metadata": {},
   "outputs": [
    {
     "data": {
      "text/plain": [
       "tuple"
      ]
     },
     "execution_count": 28,
     "metadata": {},
     "output_type": "execute_result"
    }
   ],
   "source": [
    "type(T)"
   ]
  },
  {
   "cell_type": "code",
   "execution_count": null,
   "id": "de222406-f8ab-4d2f-a624-2d14d4ee3161",
   "metadata": {},
   "outputs": [],
   "source": []
  }
 ],
 "metadata": {
  "kernelspec": {
   "display_name": "Python 3 (ipykernel)",
   "language": "python",
   "name": "python3"
  },
  "language_info": {
   "codemirror_mode": {
    "name": "ipython",
    "version": 3
   },
   "file_extension": ".py",
   "mimetype": "text/x-python",
   "name": "python",
   "nbconvert_exporter": "python",
   "pygments_lexer": "ipython3",
   "version": "3.10.8"
  }
 },
 "nbformat": 4,
 "nbformat_minor": 5
}
