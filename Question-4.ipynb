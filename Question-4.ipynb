{
 "cells": [
  {
   "cell_type": "markdown",
   "id": "a9cb9c26-6b0f-4f2f-98ba-94373fe9667d",
   "metadata": {},
   "source": [
    "4. Create a list of length 10 of your choice containing multiple types of data. Using for loop print the element and its data type."
   ]
  },
  {
   "cell_type": "code",
   "execution_count": 5,
   "id": "bdd38af3-52c3-4232-b094-fec27f4f41df",
   "metadata": {},
   "outputs": [
    {
     "name": "stdout",
     "output_type": "stream",
     "text": [
      "1 is int type\n",
      "2 is int type\n",
      "3 is int type\n",
      "4.0 is float type\n",
      "Mriganka is str type\n",
      "7. is str type\n",
      "True is bool type\n",
      "{1, 2, 3, 4} is set type\n"
     ]
    }
   ],
   "source": [
    "list = [1,2,3,4.0,\"Mriganka\",\"7.\",True,{1,2,3,4}]\n",
    "for L in list:\n",
    " print(L,\"is\", type(L).__name__,\"type\")"
   ]
  }
 ],
 "metadata": {
  "kernelspec": {
   "display_name": "Python 3 (ipykernel)",
   "language": "python",
   "name": "python3"
  },
  "language_info": {
   "codemirror_mode": {
    "name": "ipython",
    "version": 3
   },
   "file_extension": ".py",
   "mimetype": "text/x-python",
   "name": "python",
   "nbconvert_exporter": "python",
   "pygments_lexer": "ipython3",
   "version": "3.10.8"
  }
 },
 "nbformat": 4,
 "nbformat_minor": 5
}
