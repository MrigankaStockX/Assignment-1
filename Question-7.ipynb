{
 "cells": [
  {
   "cell_type": "markdown",
   "id": "3a45dec5-d177-4597-bd77-aecd6d7f4deb",
   "metadata": {},
   "source": [
    "Q7. What do you understand about mutable and immutable data types? Give examples for both showing\n",
    "this property."
   ]
  },
  {
   "cell_type": "code",
   "execution_count": 15,
   "id": "32d8cc5c-30b3-4c79-a4b6-60bcac9b34e2",
   "metadata": {},
   "outputs": [],
   "source": [
    "I= \"a,b,c,d,e,f,g,h\"\n",
    "M = [1,2,3,\"a,b,c,d,e,f,g,h\", \"india\" ]"
   ]
  },
  {
   "cell_type": "code",
   "execution_count": 6,
   "id": "8ea70cdb-bd86-455f-b417-8c8ed8eda608",
   "metadata": {},
   "outputs": [
    {
     "data": {
      "text/plain": [
       "'a,b,c,d,e,f,g,h'"
      ]
     },
     "execution_count": 6,
     "metadata": {},
     "output_type": "execute_result"
    }
   ],
   "source": [
    "I"
   ]
  },
  {
   "cell_type": "code",
   "execution_count": 16,
   "id": "b014d598-4ad0-41d6-9681-2e2b47b3790f",
   "metadata": {},
   "outputs": [
    {
     "data": {
      "text/plain": [
       "[1, 2, 3, 'a,b,c,d,e,f,g,h', 'india']"
      ]
     },
     "execution_count": 16,
     "metadata": {},
     "output_type": "execute_result"
    }
   ],
   "source": [
    "M"
   ]
  },
  {
   "cell_type": "code",
   "execution_count": 9,
   "id": "1584f148-033a-4850-9824-c7d16c344e22",
   "metadata": {},
   "outputs": [
    {
     "data": {
      "text/plain": [
       "'d'"
      ]
     },
     "execution_count": 9,
     "metadata": {},
     "output_type": "execute_result"
    }
   ],
   "source": [
    "I[6]"
   ]
  },
  {
   "cell_type": "code",
   "execution_count": 12,
   "id": "67482c78-a4ac-4444-803b-d1f79c82489f",
   "metadata": {},
   "outputs": [
    {
     "ename": "TypeError",
     "evalue": "'str' object does not support item assignment",
     "output_type": "error",
     "traceback": [
      "\u001b[0;31m---------------------------------------------------------------------------\u001b[0m",
      "\u001b[0;31mTypeError\u001b[0m                                 Traceback (most recent call last)",
      "Cell \u001b[0;32mIn[12], line 1\u001b[0m\n\u001b[0;32m----> 1\u001b[0m \u001b[43mI\u001b[49m\u001b[43m[\u001b[49m\u001b[38;5;241;43m6\u001b[39;49m\u001b[43m]\u001b[49m \u001b[38;5;241m=\u001b[39m \u001b[38;5;241m5\u001b[39m\n",
      "\u001b[0;31mTypeError\u001b[0m: 'str' object does not support item assignment"
     ]
    }
   ],
   "source": [
    "I[6] = 5"
   ]
  },
  {
   "cell_type": "code",
   "execution_count": 23,
   "id": "44dd4daa-1a40-4eae-ae3a-9fea00ad8fa0",
   "metadata": {},
   "outputs": [
    {
     "data": {
      "text/plain": [
       "'india'"
      ]
     },
     "execution_count": 23,
     "metadata": {},
     "output_type": "execute_result"
    }
   ],
   "source": [
    "M[4]"
   ]
  },
  {
   "cell_type": "code",
   "execution_count": 29,
   "id": "e47aa427-c6fb-48a7-afa1-f5a57630a1e8",
   "metadata": {
    "tags": []
   },
   "outputs": [],
   "source": [
    "M[4]= 'BHARAT'"
   ]
  },
  {
   "cell_type": "code",
   "execution_count": 30,
   "id": "6575c459-f62e-4aef-a258-663d7b40c9de",
   "metadata": {},
   "outputs": [
    {
     "data": {
      "text/plain": [
       "'BHARAT'"
      ]
     },
     "execution_count": 30,
     "metadata": {},
     "output_type": "execute_result"
    }
   ],
   "source": [
    "M[4]"
   ]
  },
  {
   "cell_type": "code",
   "execution_count": 31,
   "id": "8bb8db07-f141-43fd-8099-5b8dddeeb7b8",
   "metadata": {},
   "outputs": [
    {
     "data": {
      "text/plain": [
       "[1, 2, 3, 'a,b,c,d,e,f,g,h', 'BHARAT']"
      ]
     },
     "execution_count": 31,
     "metadata": {},
     "output_type": "execute_result"
    }
   ],
   "source": [
    "M"
   ]
  }
 ],
 "metadata": {
  "kernelspec": {
   "display_name": "Python 3 (ipykernel)",
   "language": "python",
   "name": "python3"
  },
  "language_info": {
   "codemirror_mode": {
    "name": "ipython",
    "version": 3
   },
   "file_extension": ".py",
   "mimetype": "text/x-python",
   "name": "python",
   "nbconvert_exporter": "python",
   "pygments_lexer": "ipython3",
   "version": "3.10.8"
  }
 },
 "nbformat": 4,
 "nbformat_minor": 5
}
