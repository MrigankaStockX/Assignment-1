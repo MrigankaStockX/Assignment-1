{
 "cells": [
  {
   "cell_type": "markdown",
   "id": "8b3f190f-9339-4cb5-8f37-f0b4802f7ca3",
   "metadata": {},
   "source": [
    "5. Using a while loop, verify if the number A is purely divisible by number B and if so then how many\n",
    "times it can be divisible."
   ]
  },
  {
   "cell_type": "code",
   "execution_count": 1,
   "id": "337b124d-1c24-49fb-806f-12b80bfc5e4c",
   "metadata": {},
   "outputs": [
    {
     "name": "stdin",
     "output_type": "stream",
     "text": [
      " 1000\n",
      " 2\n"
     ]
    },
    {
     "name": "stdout",
     "output_type": "stream",
     "text": [
      "Number of times A can be divided by B: 3\n"
     ]
    }
   ],
   "source": [
    "A = int(input())\n",
    "B = int(input())\n",
    "N = 0\n",
    "while A%B == 0:\n",
    " A = A/B\n",
    " N+=1\n",
    "\n",
    "print(\"Number of times A can be divided by B:\", N)"
   ]
  },
  {
   "cell_type": "code",
   "execution_count": null,
   "id": "e3dfbdba-bea0-4e81-b6c1-3e9eafe5a5e8",
   "metadata": {},
   "outputs": [],
   "source": []
  },
  {
   "cell_type": "code",
   "execution_count": null,
   "id": "2063ef93-2419-4019-b409-8c07e6ff4b07",
   "metadata": {},
   "outputs": [],
   "source": []
  }
 ],
 "metadata": {
  "kernelspec": {
   "display_name": "Python 3 (ipykernel)",
   "language": "python",
   "name": "python3"
  },
  "language_info": {
   "codemirror_mode": {
    "name": "ipython",
    "version": 3
   },
   "file_extension": ".py",
   "mimetype": "text/x-python",
   "name": "python",
   "nbconvert_exporter": "python",
   "pygments_lexer": "ipython3",
   "version": "3.10.8"
  }
 },
 "nbformat": 4,
 "nbformat_minor": 5
}
